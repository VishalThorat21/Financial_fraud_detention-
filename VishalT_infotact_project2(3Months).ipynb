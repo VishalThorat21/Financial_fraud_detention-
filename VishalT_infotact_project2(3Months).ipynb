{
 "cells": [
  {
   "cell_type": "markdown",
   "metadata": {
    "id": "st7CIsPu8jsy"
   },
   "source": [
    "# Infotact Solution(3Months)-group.No11\n",
    "# ProjectNo2\n",
    "\n",
    "perform eda , dimension reduction , create model train model optimize model model is random forest ,\n",
    "Key improvements and optimizations made:\n",
    "\n",
    "Better Model Selection:\n",
    "Switched from Logistic Regression to Random Forest, which handles non-linear relationships and imbalanced data better\n",
    "Enhanced Feature Engineering:\n",
    "Extracted hour and day of week from transaction time\n",
    "Calculated customer age from date of birth\n",
    "Computed geographical distance between customer and merchant\n",
    "Properly encoded categorical variables with one-hot encoding\n",
    "Class Imbalance Handling:\n",
    "Implemented SMOTE (Synthetic Minority Oversampling Technique) to balance the classes\n",
    "Added class_weight parameter option in Random Forest\n",
    "Data Preprocessing:\n",
    "Standardized numerical features using StandardScaler\n",
    "Removed irrelevant columns that don't contribute to fraud detection\n",
    "Model Optimization:\n",
    "Used GridSearchCV to find optimal hyperparameters\n",
    "Focused on ROC AUC as the primary scoring metric, which is more appropriate for imbalanced datasets\n",
    "Comprehensive Evaluation:\n",
    "Added multiple evaluation metrics (classification report, confusion matrix, ROC AUC, Precision-Recall AUC)\n",
    "Included feature importance analysis to understand key predictors\n",
    "Expected Improvements:\n",
    "Better fraud detection (higher recall for fraud class)\n",
    "More robust handling of class imbalance\n",
    "Improved feature representation\n",
    "More reliable predictions due to ensemble method\n",
    "\n",
    "Here is all the data you need:\n",
    "\"credit_card_fraud.csv\""
   ]
  },
  {
   "cell_type": "code",
   "execution_count": null,
   "metadata": {
    "id": "h9Xm5F_8exg4"
   },
   "outputs": [],
   "source": []
  },
  {
   "cell_type": "markdown",
   "metadata": {
    "id": "vmJaw18E8kB1"
   },
   "source": [
    "## Data uploading\n",
    "\n",
    "### Subtask1:\n",
    "Load the credit card fraud dataset into a pandas DataFrame.\n"
   ]
  },
  {
   "cell_type": "markdown",
   "metadata": {
    "id": "ywNcWTzc8khB"
   },
   "source": [
    "**Reasoning**:\n",
    "Load the credit card fraud dataset into a pandas DataFrame as per the instructions.\n",
    "\n"
   ]
  },
  {
   "cell_type": "code",
   "execution_count": null,
   "metadata": {
    "colab": {
     "base_uri": "https://localhost:8080/",
     "height": 356
    },
    "id": "vooYN3gB8lAK",
    "outputId": "5f732280-a0a0-4181-b1c1-69f2aa56e7f5"
   },
   "outputs": [
    {
     "data": {
      "text/html": [
       "<div>\n",
       "<style scoped>\n",
       "    .dataframe tbody tr th:only-of-type {\n",
       "        vertical-align: middle;\n",
       "    }\n",
       "\n",
       "    .dataframe tbody tr th {\n",
       "        vertical-align: top;\n",
       "    }\n",
       "\n",
       "    .dataframe thead th {\n",
       "        text-align: right;\n",
       "    }\n",
       "</style>\n",
       "<table border=\"1\" class=\"dataframe\">\n",
       "  <thead>\n",
       "    <tr style=\"text-align: right;\">\n",
       "      <th></th>\n",
       "      <th>trans_date_trans_time</th>\n",
       "      <th>merchant</th>\n",
       "      <th>category</th>\n",
       "      <th>amt</th>\n",
       "      <th>city</th>\n",
       "      <th>state</th>\n",
       "      <th>lat</th>\n",
       "      <th>long</th>\n",
       "      <th>city_pop</th>\n",
       "      <th>job</th>\n",
       "      <th>dob</th>\n",
       "      <th>trans_num</th>\n",
       "      <th>merch_lat</th>\n",
       "      <th>merch_long</th>\n",
       "      <th>is_fraud</th>\n",
       "    </tr>\n",
       "  </thead>\n",
       "  <tbody>\n",
       "    <tr>\n",
       "      <th>0</th>\n",
       "      <td>01-01-2019 00:00</td>\n",
       "      <td>Heller, Gutmann and Zieme</td>\n",
       "      <td>grocery_pos</td>\n",
       "      <td>107.23</td>\n",
       "      <td>Orient</td>\n",
       "      <td>WA</td>\n",
       "      <td>48.8878</td>\n",
       "      <td>-118.2105</td>\n",
       "      <td>149</td>\n",
       "      <td>Special educational needs teacher</td>\n",
       "      <td>21-06-1978</td>\n",
       "      <td>1f76529f8574734946361c461b024d99</td>\n",
       "      <td>49.159047</td>\n",
       "      <td>-118.186462</td>\n",
       "      <td>0</td>\n",
       "    </tr>\n",
       "    <tr>\n",
       "      <th>1</th>\n",
       "      <td>01-01-2019 00:00</td>\n",
       "      <td>Lind-Buckridge</td>\n",
       "      <td>entertainment</td>\n",
       "      <td>220.11</td>\n",
       "      <td>Malad City</td>\n",
       "      <td>ID</td>\n",
       "      <td>42.1808</td>\n",
       "      <td>-112.2620</td>\n",
       "      <td>4154</td>\n",
       "      <td>Nature conservation officer</td>\n",
       "      <td>19-01-1962</td>\n",
       "      <td>a1a22d70485983eac12b5b88dad1cf95</td>\n",
       "      <td>43.150704</td>\n",
       "      <td>-112.154481</td>\n",
       "      <td>0</td>\n",
       "    </tr>\n",
       "    <tr>\n",
       "      <th>2</th>\n",
       "      <td>01-01-2019 00:07</td>\n",
       "      <td>Kiehn Inc</td>\n",
       "      <td>grocery_pos</td>\n",
       "      <td>96.29</td>\n",
       "      <td>Grenada</td>\n",
       "      <td>CA</td>\n",
       "      <td>41.6125</td>\n",
       "      <td>-122.5258</td>\n",
       "      <td>589</td>\n",
       "      <td>Systems analyst</td>\n",
       "      <td>21-12-1945</td>\n",
       "      <td>413636e759663f264aae1819a4d4f231</td>\n",
       "      <td>41.657520</td>\n",
       "      <td>-122.230347</td>\n",
       "      <td>0</td>\n",
       "    </tr>\n",
       "    <tr>\n",
       "      <th>3</th>\n",
       "      <td>01-01-2019 00:09</td>\n",
       "      <td>Beier-Hyatt</td>\n",
       "      <td>shopping_pos</td>\n",
       "      <td>7.77</td>\n",
       "      <td>High Rolls Mountain Park</td>\n",
       "      <td>NM</td>\n",
       "      <td>32.9396</td>\n",
       "      <td>-105.8189</td>\n",
       "      <td>899</td>\n",
       "      <td>Naval architect</td>\n",
       "      <td>30-08-1967</td>\n",
       "      <td>8a6293af5ed278dea14448ded2685fea</td>\n",
       "      <td>32.863258</td>\n",
       "      <td>-106.520205</td>\n",
       "      <td>0</td>\n",
       "    </tr>\n",
       "    <tr>\n",
       "      <th>4</th>\n",
       "      <td>01-01-2019 00:21</td>\n",
       "      <td>Bruen-Yost</td>\n",
       "      <td>misc_pos</td>\n",
       "      <td>6.85</td>\n",
       "      <td>Freedom</td>\n",
       "      <td>WY</td>\n",
       "      <td>43.0172</td>\n",
       "      <td>-111.0292</td>\n",
       "      <td>471</td>\n",
       "      <td>Education officer, museum</td>\n",
       "      <td>02-08-1967</td>\n",
       "      <td>f3c43d336e92a44fc2fb67058d5949e3</td>\n",
       "      <td>43.753735</td>\n",
       "      <td>-111.454923</td>\n",
       "      <td>0</td>\n",
       "    </tr>\n",
       "  </tbody>\n",
       "</table>\n",
       "</div>"
      ],
      "text/plain": [
       "  trans_date_trans_time                   merchant       category     amt  \\\n",
       "0      01-01-2019 00:00  Heller, Gutmann and Zieme    grocery_pos  107.23   \n",
       "1      01-01-2019 00:00             Lind-Buckridge  entertainment  220.11   \n",
       "2      01-01-2019 00:07                  Kiehn Inc    grocery_pos   96.29   \n",
       "3      01-01-2019 00:09                Beier-Hyatt   shopping_pos    7.77   \n",
       "4      01-01-2019 00:21                 Bruen-Yost       misc_pos    6.85   \n",
       "\n",
       "                       city state      lat      long  city_pop  \\\n",
       "0                    Orient    WA  48.8878 -118.2105       149   \n",
       "1                Malad City    ID  42.1808 -112.2620      4154   \n",
       "2                   Grenada    CA  41.6125 -122.5258       589   \n",
       "3  High Rolls Mountain Park    NM  32.9396 -105.8189       899   \n",
       "4                   Freedom    WY  43.0172 -111.0292       471   \n",
       "\n",
       "                                 job         dob  \\\n",
       "0  Special educational needs teacher  21-06-1978   \n",
       "1        Nature conservation officer  19-01-1962   \n",
       "2                    Systems analyst  21-12-1945   \n",
       "3                    Naval architect  30-08-1967   \n",
       "4          Education officer, museum  02-08-1967   \n",
       "\n",
       "                          trans_num  merch_lat  merch_long  is_fraud  \n",
       "0  1f76529f8574734946361c461b024d99  49.159047 -118.186462         0  \n",
       "1  a1a22d70485983eac12b5b88dad1cf95  43.150704 -112.154481         0  \n",
       "2  413636e759663f264aae1819a4d4f231  41.657520 -122.230347         0  \n",
       "3  8a6293af5ed278dea14448ded2685fea  32.863258 -106.520205         0  \n",
       "4  f3c43d336e92a44fc2fb67058d5949e3  43.753735 -111.454923         0  "
      ]
     },
     "metadata": {},
     "output_type": "display_data"
    }
   ],
   "source": [
    "import pandas as pd\n",
    "\n",
    "df = pd.read_csv(\"C:\\\\Users\\\\VishalT\\\\Downloads\\\\credit_card_fraud.csv\")\n",
    "display(df.head())"
   ]
  },
  {
   "cell_type": "markdown",
   "metadata": {
    "id": "BuvHjehB8pxo"
   },
   "source": [
    "## Data exploration:\n",
    "\n",
    "### Subtask2:\n",
    "Explore the loaded dataset to understand its characteristics.\n"
   ]
  },
  {
   "cell_type": "markdown",
   "metadata": {
    "id": "ViGJDvrB8qIP"
   },
   "source": [
    "**Reasoning**:\n",
    "Explore the dataset by examining its shape, data types, descriptive statistics, missing values, and target variable distribution.\n",
    "\n"
   ]
  },
  {
   "cell_type": "code",
   "execution_count": 12,
   "metadata": {
    "colab": {
     "base_uri": "https://localhost:8080/"
    },
    "id": "XQKVZN8W8qYA",
    "outputId": "43cfda78-4fef-498b-8089-9e97bea895c6"
   },
   "outputs": [
    {
     "name": "stdout",
     "output_type": "stream",
     "text": [
      "Data Shape: (339607, 15)\n",
      "\n",
      "Data Types:\n",
      " trans_date_trans_time     object\n",
      "merchant                  object\n",
      "category                  object\n",
      "amt                      float64\n",
      "city                      object\n",
      "state                     object\n",
      "lat                      float64\n",
      "long                     float64\n",
      "city_pop                   int64\n",
      "job                       object\n",
      "dob                       object\n",
      "trans_num                 object\n",
      "merch_lat                float64\n",
      "merch_long               float64\n",
      "is_fraud                   int64\n",
      "dtype: object\n",
      "\n",
      "Descriptive Statistics:\n",
      "                  amt            lat           long      city_pop  \\\n",
      "count  339607.000000  339607.000000  339607.000000  3.396070e+05   \n",
      "mean       70.577984      39.718991    -110.622605  1.071409e+05   \n",
      "std       161.675242       5.094961      12.651370  2.930299e+05   \n",
      "min         1.000000      20.027100    -165.672300  4.600000e+01   \n",
      "25%         9.600000      36.715400    -120.093600  4.710000e+02   \n",
      "50%        46.460000      39.617100    -111.098500  1.645000e+03   \n",
      "75%        83.350000      41.710000    -100.621500  3.543900e+04   \n",
      "max     28948.900000      66.693300     -89.628700  2.383912e+06   \n",
      "\n",
      "           merch_lat     merch_long       is_fraud  \n",
      "count  339607.000000  339607.000000  339607.000000  \n",
      "mean       39.718853    -110.622383       0.005247  \n",
      "std         5.130894      12.663998       0.072248  \n",
      "min        19.027422    -166.671575       0.000000  \n",
      "25%        36.817194    -119.823755       0.000000  \n",
      "50%        39.586209    -111.036443       0.000000  \n",
      "75%        42.193072    -100.353096       0.000000  \n",
      "max        67.510267     -88.629203       1.000000  \n",
      "\n",
      "Missing Values:\n",
      " trans_date_trans_time    0\n",
      "merchant                 0\n",
      "category                 0\n",
      "amt                      0\n",
      "city                     0\n",
      "state                    0\n",
      "lat                      0\n",
      "long                     0\n",
      "city_pop                 0\n",
      "job                      0\n",
      "dob                      0\n",
      "trans_num                0\n",
      "merch_lat                0\n",
      "merch_long               0\n",
      "is_fraud                 0\n",
      "dtype: int64\n",
      "\n",
      "Target Variable Distribution:\n",
      " is_fraud\n",
      "0    0.994753\n",
      "1    0.005247\n",
      "Name: proportion, dtype: float64\n"
     ]
    }
   ],
   "source": [
    "# Data Shape\n",
    "print(\"Data Shape:\", df.shape)\n",
    "\n",
    "# Data Types\n",
    "print(\"\\nData Types:\\n\", df.dtypes)\n",
    "\n",
    "# Descriptive Statistics for numerical features\n",
    "print(\"\\nDescriptive Statistics:\\n\", df.describe())\n",
    "\n",
    "# Missing Values\n",
    "print(\"\\nMissing Values:\\n\", df.isnull().sum())\n",
    "\n",
    "# Target Variable Distribution\n",
    "print(\"\\nTarget Variable Distribution:\\n\", df['is_fraud'].value_counts(normalize=True))"
   ]
  },
  {
   "cell_type": "markdown",
   "metadata": {
    "id": "LxlQ7k0K8sdA"
   },
   "source": [
    "**Reasoning**:\n",
    "Calculate the correlation matrix for numerical features and visualize the distribution of numerical features using histograms and the target variable distribution using a bar chart.\n",
    "\n"
   ]
  },
  {
   "cell_type": "code",
   "execution_count": 15,
   "metadata": {
    "colab": {
     "base_uri": "https://localhost:8080/",
     "height": 1000
    },
    "id": "zWGTfzS38s0R",
    "outputId": "a6b2667b-15be-435b-add1-ac8bb3f50a78"
   },
   "outputs": [
    {
     "data": {
      "image/png": "[encoded data removed]",
      "text/plain": [
       "<Figure size 1200x800 with 2 Axes>"
      ]
     },
     "metadata": {},
     "output_type": "display_data"
    },
    {
     "data": {
      "image/png": "[encoded data removed]",
      "text/plain": [
       "<Figure size 1500x1000 with 7 Axes>"
      ]
     },
     "metadata": {},
     "output_type": "display_data"
    },
    {
     "data": {
      "image/png": "[encoded data removed]",
      "text/plain": [
       "<Figure size 600x400 with 1 Axes>"
      ]
     },
     "metadata": {},
     "output_type": "display_data"
    }
   ],
   "source": [
    "import matplotlib.pyplot as plt\n",
    "import seaborn as sns\n",
    "\n",
    "# Correlation Analysis\n",
    "numerical_features = df.select_dtypes(include=['number'])\n",
    "correlation_matrix = numerical_features.corr()\n",
    "\n",
    "plt.figure(figsize=(12, 8))\n",
    "sns.heatmap(correlation_matrix, annot=True, cmap='coolwarm', fmt=\".2f\")\n",
    "plt.title('Correlation Matrix of Numerical Features')\n",
    "plt.show()\n",
    "\n",
    "\n",
    "# Data Visualization: Histograms for numerical features\n",
    "plt.figure(figsize=(15, 10))\n",
    "for i, column in enumerate(numerical_features.columns):\n",
    "    plt.subplot(3, 3, i + 1)\n",
    "    plt.hist(df[column], bins=20)\n",
    "    plt.title(column)\n",
    "plt.tight_layout()\n",
    "plt.show()\n",
    "\n",
    "\n",
    "# Data Visualization: Target Variable Distribution (Bar Chart)\n",
    "plt.figure(figsize=(6, 4))\n",
    "sns.countplot(x='is_fraud', data=df)\n",
    "plt.title('Distribution of Target Variable (is_fraud)')\n",
    "plt.show()"
   ]
  },
  {
   "cell_type": "markdown",
   "metadata": {
    "id": "BFlau7cX8yx4"
   },
   "source": [
    "## Data cleaning:\n",
    "\n",
    "### Subtask3:\n",
    "Clean the dataset by removing irrelevant columns and handling potential outliers.\n"
   ]
  },
  {
   "cell_type": "markdown",
   "metadata": {
    "id": "Bk_UE9th8zBn"
   },
   "source": [
    "**Reasoning**:\n",
    "Identify and remove irrelevant columns that are unlikely to contribute to fraud detection.\n",
    "\n"
   ]
  },
  {
   "cell_type": "code",
   "execution_count": 19,
   "metadata": {
    "colab": {
     "base_uri": "https://localhost:8080/",
     "height": 434
    },
    "id": "gARc0pBZ8zRX",
    "outputId": "c34c887e-6fa5-4fa0-9751-bdccd3792320"
   },
   "outputs": [
    {
     "data": {
      "text/html": [
       "<div>\n",
       "<style scoped>\n",
       "    .dataframe tbody tr th:only-of-type {\n",
       "        vertical-align: middle;\n",
       "    }\n",
       "\n",
       "    .dataframe tbody tr th {\n",
       "        vertical-align: top;\n",
       "    }\n",
       "\n",
       "    .dataframe thead th {\n",
       "        text-align: right;\n",
       "    }\n",
       "</style>\n",
       "<table border=\"1\" class=\"dataframe\">\n",
       "  <thead>\n",
       "    <tr style=\"text-align: right;\">\n",
       "      <th></th>\n",
       "      <th>trans_date_trans_time</th>\n",
       "      <th>category</th>\n",
       "      <th>amt</th>\n",
       "      <th>city</th>\n",
       "      <th>state</th>\n",
       "      <th>lat</th>\n",
       "      <th>long</th>\n",
       "      <th>city_pop</th>\n",
       "      <th>job</th>\n",
       "      <th>dob</th>\n",
       "      <th>merch_lat</th>\n",
       "      <th>merch_long</th>\n",
       "      <th>is_fraud</th>\n",
       "    </tr>\n",
       "  </thead>\n",
       "  <tbody>\n",
       "    <tr>\n",
       "      <th>0</th>\n",
       "      <td>01-01-2019 00:00</td>\n",
       "      <td>grocery_pos</td>\n",
       "      <td>107.23</td>\n",
       "      <td>Orient</td>\n",
       "      <td>WA</td>\n",
       "      <td>48.8878</td>\n",
       "      <td>-118.2105</td>\n",
       "      <td>149</td>\n",
       "      <td>Special educational needs teacher</td>\n",
       "      <td>21-06-1978</td>\n",
       "      <td>49.159047</td>\n",
       "      <td>-118.186462</td>\n",
       "      <td>0</td>\n",
       "    </tr>\n",
       "    <tr>\n",
       "      <th>1</th>\n",
       "      <td>01-01-2019 00:00</td>\n",
       "      <td>entertainment</td>\n",
       "      <td>220.11</td>\n",
       "      <td>Malad City</td>\n",
       "      <td>ID</td>\n",
       "      <td>42.1808</td>\n",
       "      <td>-112.2620</td>\n",
       "      <td>4154</td>\n",
       "      <td>Nature conservation officer</td>\n",
       "      <td>19-01-1962</td>\n",
       "      <td>43.150704</td>\n",
       "      <td>-112.154481</td>\n",
       "      <td>0</td>\n",
       "    </tr>\n",
       "    <tr>\n",
       "      <th>2</th>\n",
       "      <td>01-01-2019 00:07</td>\n",
       "      <td>grocery_pos</td>\n",
       "      <td>96.29</td>\n",
       "      <td>Grenada</td>\n",
       "      <td>CA</td>\n",
       "      <td>41.6125</td>\n",
       "      <td>-122.5258</td>\n",
       "      <td>589</td>\n",
       "      <td>Systems analyst</td>\n",
       "      <td>21-12-1945</td>\n",
       "      <td>41.657520</td>\n",
       "      <td>-122.230347</td>\n",
       "      <td>0</td>\n",
       "    </tr>\n",
       "    <tr>\n",
       "      <th>3</th>\n",
       "      <td>01-01-2019 00:09</td>\n",
       "      <td>shopping_pos</td>\n",
       "      <td>7.77</td>\n",
       "      <td>High Rolls Mountain Park</td>\n",
       "      <td>NM</td>\n",
       "      <td>32.9396</td>\n",
       "      <td>-105.8189</td>\n",
       "      <td>899</td>\n",
       "      <td>Naval architect</td>\n",
       "      <td>30-08-1967</td>\n",
       "      <td>32.863258</td>\n",
       "      <td>-106.520205</td>\n",
       "      <td>0</td>\n",
       "    </tr>\n",
       "    <tr>\n",
       "      <th>4</th>\n",
       "      <td>01-01-2019 00:21</td>\n",
       "      <td>misc_pos</td>\n",
       "      <td>6.85</td>\n",
       "      <td>Freedom</td>\n",
       "      <td>WY</td>\n",
       "      <td>43.0172</td>\n",
       "      <td>-111.0292</td>\n",
       "      <td>471</td>\n",
       "      <td>Education officer, museum</td>\n",
       "      <td>02-08-1967</td>\n",
       "      <td>43.753735</td>\n",
       "      <td>-111.454923</td>\n",
       "      <td>0</td>\n",
       "    </tr>\n",
       "  </tbody>\n",
       "</table>\n",
       "</div>"
      ],
      "text/plain": [
       "  trans_date_trans_time       category     amt                      city  \\\n",
       "0      01-01-2019 00:00    grocery_pos  107.23                    Orient   \n",
       "1      01-01-2019 00:00  entertainment  220.11                Malad City   \n",
       "2      01-01-2019 00:07    grocery_pos   96.29                   Grenada   \n",
       "3      01-01-2019 00:09   shopping_pos    7.77  High Rolls Mountain Park   \n",
       "4      01-01-2019 00:21       misc_pos    6.85                   Freedom   \n",
       "\n",
       "  state      lat      long  city_pop                                job  \\\n",
       "0    WA  48.8878 -118.2105       149  Special educational needs teacher   \n",
       "1    ID  42.1808 -112.2620      4154        Nature conservation officer   \n",
       "2    CA  41.6125 -122.5258       589                    Systems analyst   \n",
       "3    NM  32.9396 -105.8189       899                    Naval architect   \n",
       "4    WY  43.0172 -111.0292       471          Education officer, museum   \n",
       "\n",
       "          dob  merch_lat  merch_long  is_fraud  \n",
       "0  21-06-1978  49.159047 -118.186462         0  \n",
       "1  19-01-1962  43.150704 -112.154481         0  \n",
       "2  21-12-1945  41.657520 -122.230347         0  \n",
       "3  30-08-1967  32.863258 -106.520205         0  \n",
       "4  02-08-1967  43.753735 -111.454923         0  "
      ]
     },
     "metadata": {},
     "output_type": "display_data"
    }
   ],
   "source": [
    "# Drop columns that are unlikely to contribute to fraud detection (only if they exist)\n",
    "columns_to_drop = ['trans_num', 'merchant']\n",
    "existing_columns = [col for col in columns_to_drop if col in df.columns]\n",
    "df = df.drop(columns=existing_columns)\n",
    "display(df.head())"
   ]
  },
  {
   "cell_type": "markdown",
   "metadata": {
    "id": "qGFeENMY81fc"
   },
   "source": [
    "**Reasoning**:\n",
    "Check for potential outliers in numerical features and handle them if necessary.\n",
    "\n"
   ]
  },
  {
   "cell_type": "code",
   "execution_count": 22,
   "metadata": {
    "colab": {
     "base_uri": "https://localhost:8080/",
     "height": 1000
    },
    "id": "wup3Mm60812Y",
    "outputId": "990eca03-6930-4ad7-9856-3dd889e45a3e"
   },
   "outputs": [
    {
     "data": {
      "image/png": "[encoded data removed]",
      "text/plain": [
       "<Figure size 800x400 with 1 Axes>"
      ]
     },
     "metadata": {},
     "output_type": "display_data"
    },
    {
     "data": {
      "image/png": "[encoded data removed]",
      "text/plain": [
       "<Figure size 800x400 with 1 Axes>"
      ]
     },
     "metadata": {},
     "output_type": "display_data"
    },
    {
     "data": {
      "image/png": "[encoded data removed]",
      "text/plain": [
       "<Figure size 800x400 with 1 Axes>"
      ]
     },
     "metadata": {},
     "output_type": "display_data"
    },
    {
     "data": {
      "image/png": "[encoded data removed]",
      "text/plain": [
       "<Figure size 800x400 with 1 Axes>"
      ]
     },
     "metadata": {},
     "output_type": "display_data"
    },
    {
     "data": {
      "image/png": "[encoded data removed]",
      "text/plain": [
       "<Figure size 800x400 with 1 Axes>"
      ]
     },
     "metadata": {},
     "output_type": "display_data"
    },
    {
     "data": {
      "image/png": "[encoded data removed]",
      "text/plain": [
       "<Figure size 800x400 with 1 Axes>"
      ]
     },
     "metadata": {},
     "output_type": "display_data"
    },
    {
     "data": {
      "image/png": "[encoded data removed]",
      "text/plain": [
       "<Figure size 800x400 with 1 Axes>"
      ]
     },
     "metadata": {},
     "output_type": "display_data"
    }
   ],
   "source": [
    "# Check for potential outliers in numerical features\n",
    "numerical_features = df.select_dtypes(include=['number'])\n",
    "for column in numerical_features.columns:\n",
    "  plt.figure(figsize=(8, 4))\n",
    "  plt.boxplot(df[column])\n",
    "  plt.title(f'Boxplot of {column}')\n",
    "  plt.show()\n",
    "\n",
    "# Handle outliers if necessary (e.g., using IQR or z-score)\n",
    "# For example, you can remove or transform outliers based on your analysis\n",
    "# Be cautious about removing outliers as they might represent genuine fraud transactions\n"
   ]
  },
  {
   "cell_type": "markdown",
   "metadata": {
    "id": "rUEGFCXt85pI"
   },
   "source": [
    "## Feature engineering:\n",
    "\n",
    "### Subtask4:\n",
    "Engineer new features from existing data to improve model performance.\n"
   ]
  },
  {
   "cell_type": "markdown",
   "metadata": {
    "id": "D7snCY1X86oU"
   },
   "source": [
    "**Reasoning**:\n",
    "Extract the hour and day of the week from the `trans_date_trans_time` column, calculate the customer's age based on the `dob` column, and perform one-hot encoding for the categorical features.\n",
    "\n"
   ]
  },
  {
   "cell_type": "code",
   "execution_count": 26,
   "metadata": {
    "colab": {
     "base_uri": "https://localhost:8080/",
     "height": 547
    },
    "id": "sQqm3DA086-Z",
    "outputId": "6db677d7-f72e-4301-f4a8-f2e873cebdd6"
   },
   "outputs": [
    {
     "name": "stderr",
     "output_type": "stream",
     "text": [
      "C:\\Users\\kiran\\AppData\\Local\\Temp\\ipykernel_10832\\57436805.py:9: UserWarning: Parsing dates in %d-%m-%Y format when dayfirst=False (the default) was specified. Pass `dayfirst=True` or specify a format to silence this warning.\n",
      "  df['dob'] = pd.to_datetime(df['dob'])\n"
     ]
    },
    {
     "data": {
      "text/html": [
       "<div>\n",
       "<style scoped>\n",
       "    .dataframe tbody tr th:only-of-type {\n",
       "        vertical-align: middle;\n",
       "    }\n",
       "\n",
       "    .dataframe tbody tr th {\n",
       "        vertical-align: top;\n",
       "    }\n",
       "\n",
       "    .dataframe thead th {\n",
       "        text-align: right;\n",
       "    }\n",
       "</style>\n",
       "<table border=\"1\" class=\"dataframe\">\n",
       "  <thead>\n",
       "    <tr style=\"text-align: right;\">\n",
       "      <th></th>\n",
       "      <th>trans_date_trans_time</th>\n",
       "      <th>amt</th>\n",
       "      <th>city</th>\n",
       "      <th>lat</th>\n",
       "      <th>long</th>\n",
       "      <th>city_pop</th>\n",
       "      <th>dob</th>\n",
       "      <th>merch_lat</th>\n",
       "      <th>merch_long</th>\n",
       "      <th>is_fraud</th>\n",
       "      <th>...</th>\n",
       "      <th>job_Therapist, art</th>\n",
       "      <th>job_Therapist, horticultural</th>\n",
       "      <th>job_Therapist, music</th>\n",
       "      <th>job_Therapist, occupational</th>\n",
       "      <th>job_Tourist information centre manager</th>\n",
       "      <th>job_Town planner</th>\n",
       "      <th>job_Video editor</th>\n",
       "      <th>job_Water engineer</th>\n",
       "      <th>job_Web designer</th>\n",
       "      <th>job_Wellsite geologist</th>\n",
       "    </tr>\n",
       "  </thead>\n",
       "  <tbody>\n",
       "    <tr>\n",
       "      <th>0</th>\n",
       "      <td>2019-01-01 00:00:00</td>\n",
       "      <td>107.23</td>\n",
       "      <td>Orient</td>\n",
       "      <td>48.8878</td>\n",
       "      <td>-118.2105</td>\n",
       "      <td>149</td>\n",
       "      <td>1978-06-21</td>\n",
       "      <td>49.159047</td>\n",
       "      <td>-118.186462</td>\n",
       "      <td>0</td>\n",
       "      <td>...</td>\n",
       "      <td>False</td>\n",
       "      <td>False</td>\n",
       "      <td>False</td>\n",
       "      <td>False</td>\n",
       "      <td>False</td>\n",
       "      <td>False</td>\n",
       "      <td>False</td>\n",
       "      <td>False</td>\n",
       "      <td>False</td>\n",
       "      <td>False</td>\n",
       "    </tr>\n",
       "    <tr>\n",
       "      <th>1</th>\n",
       "      <td>2019-01-01 00:00:00</td>\n",
       "      <td>220.11</td>\n",
       "      <td>Malad City</td>\n",
       "      <td>42.1808</td>\n",
       "      <td>-112.2620</td>\n",
       "      <td>4154</td>\n",
       "      <td>1962-01-19</td>\n",
       "      <td>43.150704</td>\n",
       "      <td>-112.154481</td>\n",
       "      <td>0</td>\n",
       "      <td>...</td>\n",
       "      <td>False</td>\n",
       "      <td>False</td>\n",
       "      <td>False</td>\n",
       "      <td>False</td>\n",
       "      <td>False</td>\n",
       "      <td>False</td>\n",
       "      <td>False</td>\n",
       "      <td>False</td>\n",
       "      <td>False</td>\n",
       "      <td>False</td>\n",
       "    </tr>\n",
       "    <tr>\n",
       "      <th>2</th>\n",
       "      <td>2019-01-01 00:07:00</td>\n",
       "      <td>96.29</td>\n",
       "      <td>Grenada</td>\n",
       "      <td>41.6125</td>\n",
       "      <td>-122.5258</td>\n",
       "      <td>589</td>\n",
       "      <td>1945-12-21</td>\n",
       "      <td>41.657520</td>\n",
       "      <td>-122.230347</td>\n",
       "      <td>0</td>\n",
       "      <td>...</td>\n",
       "      <td>False</td>\n",
       "      <td>False</td>\n",
       "      <td>False</td>\n",
       "      <td>False</td>\n",
       "      <td>False</td>\n",
       "      <td>False</td>\n",
       "      <td>False</td>\n",
       "      <td>False</td>\n",
       "      <td>False</td>\n",
       "      <td>False</td>\n",
       "    </tr>\n",
       "    <tr>\n",
       "      <th>3</th>\n",
       "      <td>2019-01-01 00:09:00</td>\n",
       "      <td>7.77</td>\n",
       "      <td>High Rolls Mountain Park</td>\n",
       "      <td>32.9396</td>\n",
       "      <td>-105.8189</td>\n",
       "      <td>899</td>\n",
       "      <td>1967-08-30</td>\n",
       "      <td>32.863258</td>\n",
       "      <td>-106.520205</td>\n",
       "      <td>0</td>\n",
       "      <td>...</td>\n",
       "      <td>False</td>\n",
       "      <td>False</td>\n",
       "      <td>False</td>\n",
       "      <td>False</td>\n",
       "      <td>False</td>\n",
       "      <td>False</td>\n",
       "      <td>False</td>\n",
       "      <td>False</td>\n",
       "      <td>False</td>\n",
       "      <td>False</td>\n",
       "    </tr>\n",
       "    <tr>\n",
       "      <th>4</th>\n",
       "      <td>2019-01-01 00:21:00</td>\n",
       "      <td>6.85</td>\n",
       "      <td>Freedom</td>\n",
       "      <td>43.0172</td>\n",
       "      <td>-111.0292</td>\n",
       "      <td>471</td>\n",
       "      <td>1967-08-02</td>\n",
       "      <td>43.753735</td>\n",
       "      <td>-111.454923</td>\n",
       "      <td>0</td>\n",
       "      <td>...</td>\n",
       "      <td>False</td>\n",
       "      <td>False</td>\n",
       "      <td>False</td>\n",
       "      <td>False</td>\n",
       "      <td>False</td>\n",
       "      <td>False</td>\n",
       "      <td>False</td>\n",
       "      <td>False</td>\n",
       "      <td>False</td>\n",
       "      <td>False</td>\n",
       "    </tr>\n",
       "  </tbody>\n",
       "</table>\n",
       "<p>5 rows × 203 columns</p>\n",
       "</div>"
      ],
      "text/plain": [
       "  trans_date_trans_time     amt                      city      lat      long  \\\n",
       "0   2019-01-01 00:00:00  107.23                    Orient  48.8878 -118.2105   \n",
       "1   2019-01-01 00:00:00  220.11                Malad City  42.1808 -112.2620   \n",
       "2   2019-01-01 00:07:00   96.29                   Grenada  41.6125 -122.5258   \n",
       "3   2019-01-01 00:09:00    7.77  High Rolls Mountain Park  32.9396 -105.8189   \n",
       "4   2019-01-01 00:21:00    6.85                   Freedom  43.0172 -111.0292   \n",
       "\n",
       "   city_pop        dob  merch_lat  merch_long  is_fraud  ...  \\\n",
       "0       149 1978-06-21  49.159047 -118.186462         0  ...   \n",
       "1      4154 1962-01-19  43.150704 -112.154481         0  ...   \n",
       "2       589 1945-12-21  41.657520 -122.230347         0  ...   \n",
       "3       899 1967-08-30  32.863258 -106.520205         0  ...   \n",
       "4       471 1967-08-02  43.753735 -111.454923         0  ...   \n",
       "\n",
       "   job_Therapist, art  job_Therapist, horticultural  job_Therapist, music  \\\n",
       "0               False                         False                 False   \n",
       "1               False                         False                 False   \n",
       "2               False                         False                 False   \n",
       "3               False                         False                 False   \n",
       "4               False                         False                 False   \n",
       "\n",
       "   job_Therapist, occupational  job_Tourist information centre manager  \\\n",
       "0                        False                                   False   \n",
       "1                        False                                   False   \n",
       "2                        False                                   False   \n",
       "3                        False                                   False   \n",
       "4                        False                                   False   \n",
       "\n",
       "   job_Town planner  job_Video editor  job_Water engineer  job_Web designer  \\\n",
       "0             False             False               False             False   \n",
       "1             False             False               False             False   \n",
       "2             False             False               False             False   \n",
       "3             False             False               False             False   \n",
       "4             False             False               False             False   \n",
       "\n",
       "   job_Wellsite geologist  \n",
       "0                   False  \n",
       "1                   False  \n",
       "2                   False  \n",
       "3                   False  \n",
       "4                   False  \n",
       "\n",
       "[5 rows x 203 columns]"
      ]
     },
     "metadata": {},
     "output_type": "display_data"
    }
   ],
   "source": [
    "from datetime import datetime\n",
    "\n",
    "# Extract hour and day of the week from trans_date_trans_time\n",
    "df['trans_date_trans_time'] = pd.to_datetime(df['trans_date_trans_time'], dayfirst=True)\n",
    "df['hour'] = df['trans_date_trans_time'].dt.hour\n",
    "df['day_of_week'] = df['trans_date_trans_time'].dt.dayofweek\n",
    "\n",
    "# Calculate customer age\n",
    "df['dob'] = pd.to_datetime(df['dob'])\n",
    "df['age'] = (datetime.now() - df['dob']).dt.days // 365\n",
    "\n",
    "# One-hot encode categorical features\n",
    "categorical_features = ['category', 'state', 'job']\n",
    "df = pd.get_dummies(df, columns=categorical_features, dummy_na=False)\n",
    "display(df.head())"
   ]
  },
  {
   "cell_type": "code",
   "execution_count": 28,
   "metadata": {
    "id": "7T7dBAIjK1bu"
   },
   "outputs": [],
   "source": [
    "# @title Default title text\n"
   ]
  },
  {
   "cell_type": "markdown",
   "metadata": {
    "id": "EDKYfjeg8805"
   },
   "source": [
    "**Reasoning**:\n",
    "The previous code block failed due to an incorrect date format. We need to fix the date format to correctly extract the hour and day of the week, calculate the customer's age, and perform one-hot encoding.\n",
    "\n"
   ]
  },
  {
   "cell_type": "code",
   "execution_count": 31,
   "metadata": {
    "colab": {
     "base_uri": "https://localhost:8080/",
     "height": 429
    },
    "id": "yzHEfIO989LB",
    "outputId": "02ee9a51-1d94-43b0-e282-6517ccd29123"
   },
   "outputs": [
    {
     "data": {
      "text/html": [
       "<div>\n",
       "<style scoped>\n",
       "    .dataframe tbody tr th:only-of-type {\n",
       "        vertical-align: middle;\n",
       "    }\n",
       "\n",
       "    .dataframe tbody tr th {\n",
       "        vertical-align: top;\n",
       "    }\n",
       "\n",
       "    .dataframe thead th {\n",
       "        text-align: right;\n",
       "    }\n",
       "</style>\n",
       "<table border=\"1\" class=\"dataframe\">\n",
       "  <thead>\n",
       "    <tr style=\"text-align: right;\">\n",
       "      <th></th>\n",
       "      <th>trans_date_trans_time</th>\n",
       "      <th>amt</th>\n",
       "      <th>city</th>\n",
       "      <th>lat</th>\n",
       "      <th>long</th>\n",
       "      <th>city_pop</th>\n",
       "      <th>dob</th>\n",
       "      <th>merch_lat</th>\n",
       "      <th>merch_long</th>\n",
       "      <th>is_fraud</th>\n",
       "      <th>...</th>\n",
       "      <th>job_Therapist, art</th>\n",
       "      <th>job_Therapist, horticultural</th>\n",
       "      <th>job_Therapist, music</th>\n",
       "      <th>job_Therapist, occupational</th>\n",
       "      <th>job_Tourist information centre manager</th>\n",
       "      <th>job_Town planner</th>\n",
       "      <th>job_Video editor</th>\n",
       "      <th>job_Water engineer</th>\n",
       "      <th>job_Web designer</th>\n",
       "      <th>job_Wellsite geologist</th>\n",
       "    </tr>\n",
       "  </thead>\n",
       "  <tbody>\n",
       "    <tr>\n",
       "      <th>0</th>\n",
       "      <td>2019-01-01 00:00:00</td>\n",
       "      <td>107.23</td>\n",
       "      <td>Orient</td>\n",
       "      <td>48.8878</td>\n",
       "      <td>-118.2105</td>\n",
       "      <td>149</td>\n",
       "      <td>1978-06-21</td>\n",
       "      <td>49.159047</td>\n",
       "      <td>-118.186462</td>\n",
       "      <td>0</td>\n",
       "      <td>...</td>\n",
       "      <td>False</td>\n",
       "      <td>False</td>\n",
       "      <td>False</td>\n",
       "      <td>False</td>\n",
       "      <td>False</td>\n",
       "      <td>False</td>\n",
       "      <td>False</td>\n",
       "      <td>False</td>\n",
       "      <td>False</td>\n",
       "      <td>False</td>\n",
       "    </tr>\n",
       "    <tr>\n",
       "      <th>1</th>\n",
       "      <td>2019-01-01 00:00:00</td>\n",
       "      <td>220.11</td>\n",
       "      <td>Malad City</td>\n",
       "      <td>42.1808</td>\n",
       "      <td>-112.2620</td>\n",
       "      <td>4154</td>\n",
       "      <td>1962-01-19</td>\n",
       "      <td>43.150704</td>\n",
       "      <td>-112.154481</td>\n",
       "      <td>0</td>\n",
       "      <td>...</td>\n",
       "      <td>False</td>\n",
       "      <td>False</td>\n",
       "      <td>False</td>\n",
       "      <td>False</td>\n",
       "      <td>False</td>\n",
       "      <td>False</td>\n",
       "      <td>False</td>\n",
       "      <td>False</td>\n",
       "      <td>False</td>\n",
       "      <td>False</td>\n",
       "    </tr>\n",
       "    <tr>\n",
       "      <th>2</th>\n",
       "      <td>2019-01-01 00:07:00</td>\n",
       "      <td>96.29</td>\n",
       "      <td>Grenada</td>\n",
       "      <td>41.6125</td>\n",
       "      <td>-122.5258</td>\n",
       "      <td>589</td>\n",
       "      <td>1945-12-21</td>\n",
       "      <td>41.657520</td>\n",
       "      <td>-122.230347</td>\n",
       "      <td>0</td>\n",
       "      <td>...</td>\n",
       "      <td>False</td>\n",
       "      <td>False</td>\n",
       "      <td>False</td>\n",
       "      <td>False</td>\n",
       "      <td>False</td>\n",
       "      <td>False</td>\n",
       "      <td>False</td>\n",
       "      <td>False</td>\n",
       "      <td>False</td>\n",
       "      <td>False</td>\n",
       "    </tr>\n",
       "    <tr>\n",
       "      <th>3</th>\n",
       "      <td>2019-01-01 00:09:00</td>\n",
       "      <td>7.77</td>\n",
       "      <td>High Rolls Mountain Park</td>\n",
       "      <td>32.9396</td>\n",
       "      <td>-105.8189</td>\n",
       "      <td>899</td>\n",
       "      <td>1967-08-30</td>\n",
       "      <td>32.863258</td>\n",
       "      <td>-106.520205</td>\n",
       "      <td>0</td>\n",
       "      <td>...</td>\n",
       "      <td>False</td>\n",
       "      <td>False</td>\n",
       "      <td>False</td>\n",
       "      <td>False</td>\n",
       "      <td>False</td>\n",
       "      <td>False</td>\n",
       "      <td>False</td>\n",
       "      <td>False</td>\n",
       "      <td>False</td>\n",
       "      <td>False</td>\n",
       "    </tr>\n",
       "    <tr>\n",
       "      <th>4</th>\n",
       "      <td>2019-01-01 00:21:00</td>\n",
       "      <td>6.85</td>\n",
       "      <td>Freedom</td>\n",
       "      <td>43.0172</td>\n",
       "      <td>-111.0292</td>\n",
       "      <td>471</td>\n",
       "      <td>1967-08-02</td>\n",
       "      <td>43.753735</td>\n",
       "      <td>-111.454923</td>\n",
       "      <td>0</td>\n",
       "      <td>...</td>\n",
       "      <td>False</td>\n",
       "      <td>False</td>\n",
       "      <td>False</td>\n",
       "      <td>False</td>\n",
       "      <td>False</td>\n",
       "      <td>False</td>\n",
       "      <td>False</td>\n",
       "      <td>False</td>\n",
       "      <td>False</td>\n",
       "      <td>False</td>\n",
       "    </tr>\n",
       "  </tbody>\n",
       "</table>\n",
       "<p>5 rows × 203 columns</p>\n",
       "</div>"
      ],
      "text/plain": [
       "  trans_date_trans_time     amt                      city      lat      long  \\\n",
       "0   2019-01-01 00:00:00  107.23                    Orient  48.8878 -118.2105   \n",
       "1   2019-01-01 00:00:00  220.11                Malad City  42.1808 -112.2620   \n",
       "2   2019-01-01 00:07:00   96.29                   Grenada  41.6125 -122.5258   \n",
       "3   2019-01-01 00:09:00    7.77  High Rolls Mountain Park  32.9396 -105.8189   \n",
       "4   2019-01-01 00:21:00    6.85                   Freedom  43.0172 -111.0292   \n",
       "\n",
       "   city_pop        dob  merch_lat  merch_long  is_fraud  ...  \\\n",
       "0       149 1978-06-21  49.159047 -118.186462         0  ...   \n",
       "1      4154 1962-01-19  43.150704 -112.154481         0  ...   \n",
       "2       589 1945-12-21  41.657520 -122.230347         0  ...   \n",
       "3       899 1967-08-30  32.863258 -106.520205         0  ...   \n",
       "4       471 1967-08-02  43.753735 -111.454923         0  ...   \n",
       "\n",
       "   job_Therapist, art  job_Therapist, horticultural  job_Therapist, music  \\\n",
       "0               False                         False                 False   \n",
       "1               False                         False                 False   \n",
       "2               False                         False                 False   \n",
       "3               False                         False                 False   \n",
       "4               False                         False                 False   \n",
       "\n",
       "   job_Therapist, occupational  job_Tourist information centre manager  \\\n",
       "0                        False                                   False   \n",
       "1                        False                                   False   \n",
       "2                        False                                   False   \n",
       "3                        False                                   False   \n",
       "4                        False                                   False   \n",
       "\n",
       "   job_Town planner  job_Video editor  job_Water engineer  job_Web designer  \\\n",
       "0             False             False               False             False   \n",
       "1             False             False               False             False   \n",
       "2             False             False               False             False   \n",
       "3             False             False               False             False   \n",
       "4             False             False               False             False   \n",
       "\n",
       "   job_Wellsite geologist  \n",
       "0                   False  \n",
       "1                   False  \n",
       "2                   False  \n",
       "3                   False  \n",
       "4                   False  \n",
       "\n",
       "[5 rows x 203 columns]"
      ]
     },
     "metadata": {},
     "output_type": "display_data"
    }
   ],
   "source": [
    "import pandas as pd\n",
    "from datetime import datetime\n",
    "\n",
    "# Extract hour and day of the week from trans_date_trans_time\n",
    "df['trans_date_trans_time'] = pd.to_datetime(df['trans_date_trans_time'], format='%d-%m-%Y %H:%M', errors='coerce')\n",
    "df['hour'] = df['trans_date_trans_time'].dt.hour\n",
    "df['day_of_week'] = df['trans_date_trans_time'].dt.dayofweek\n",
    "\n",
    "# Calculate customer age\n",
    "df['dob'] = pd.to_datetime(df['dob'], format='%d-%m-%Y', errors='coerce')\n",
    "df['age'] = (datetime.now() - df['dob']).dt.days // 365\n",
    "\n",
    "# One-hot encode categorical features that exist\n",
    "categorical_features = ['category', 'state', 'job']\n",
    "existing_cat_features = [col for col in categorical_features if col in df.columns]\n",
    "df = pd.get_dummies(df, columns=existing_cat_features, dummy_na=False)\n",
    "\n",
    "display(df.head())\n"
   ]
  },
  {
   "cell_type": "markdown",
   "metadata": {
    "id": "k2aRDTgJ8_dw"
   },
   "source": [
    "## Reasoning:\n",
    "Calculate the geographical distance between the customer and the merchant using the Haversine formula.\n",
    "\n"
   ]
  },
  {
   "cell_type": "code",
   "execution_count": 36,
   "metadata": {
    "colab": {
     "base_uri": "https://localhost:8080/",
     "height": 429
    },
    "id": "5nJTZGKk8_tg",
    "outputId": "e8ebb9bc-d412-43f0-a851-6c04face520e"
   },
   "outputs": [
    {
     "data": {
      "text/html": [
       "<div>\n",
       "<style scoped>\n",
       "    .dataframe tbody tr th:only-of-type {\n",
       "        vertical-align: middle;\n",
       "    }\n",
       "\n",
       "    .dataframe tbody tr th {\n",
       "        vertical-align: top;\n",
       "    }\n",
       "\n",
       "    .dataframe thead th {\n",
       "        text-align: right;\n",
       "    }\n",
       "</style>\n",
       "<table border=\"1\" class=\"dataframe\">\n",
       "  <thead>\n",
       "    <tr style=\"text-align: right;\">\n",
       "      <th></th>\n",
       "      <th>trans_date_trans_time</th>\n",
       "      <th>amt</th>\n",
       "      <th>city</th>\n",
       "      <th>lat</th>\n",
       "      <th>long</th>\n",
       "      <th>city_pop</th>\n",
       "      <th>dob</th>\n",
       "      <th>merch_lat</th>\n",
       "      <th>merch_long</th>\n",
       "      <th>is_fraud</th>\n",
       "      <th>...</th>\n",
       "      <th>job_Therapist, horticultural</th>\n",
       "      <th>job_Therapist, music</th>\n",
       "      <th>job_Therapist, occupational</th>\n",
       "      <th>job_Tourist information centre manager</th>\n",
       "      <th>job_Town planner</th>\n",
       "      <th>job_Video editor</th>\n",
       "      <th>job_Water engineer</th>\n",
       "      <th>job_Web designer</th>\n",
       "      <th>job_Wellsite geologist</th>\n",
       "      <th>distance</th>\n",
       "    </tr>\n",
       "  </thead>\n",
       "  <tbody>\n",
       "    <tr>\n",
       "      <th>0</th>\n",
       "      <td>2019-01-01 00:00:00</td>\n",
       "      <td>107.23</td>\n",
       "      <td>Orient</td>\n",
       "      <td>48.8878</td>\n",
       "      <td>-118.2105</td>\n",
       "      <td>149</td>\n",
       "      <td>1978-06-21</td>\n",
       "      <td>49.159047</td>\n",
       "      <td>-118.186462</td>\n",
       "      <td>0</td>\n",
       "      <td>...</td>\n",
       "      <td>False</td>\n",
       "      <td>False</td>\n",
       "      <td>False</td>\n",
       "      <td>False</td>\n",
       "      <td>False</td>\n",
       "      <td>False</td>\n",
       "      <td>False</td>\n",
       "      <td>False</td>\n",
       "      <td>False</td>\n",
       "      <td>30.212176</td>\n",
       "    </tr>\n",
       "    <tr>\n",
       "      <th>1</th>\n",
       "      <td>2019-01-01 00:00:00</td>\n",
       "      <td>220.11</td>\n",
       "      <td>Malad City</td>\n",
       "      <td>42.1808</td>\n",
       "      <td>-112.2620</td>\n",
       "      <td>4154</td>\n",
       "      <td>1962-01-19</td>\n",
       "      <td>43.150704</td>\n",
       "      <td>-112.154481</td>\n",
       "      <td>0</td>\n",
       "      <td>...</td>\n",
       "      <td>False</td>\n",
       "      <td>False</td>\n",
       "      <td>False</td>\n",
       "      <td>False</td>\n",
       "      <td>False</td>\n",
       "      <td>False</td>\n",
       "      <td>False</td>\n",
       "      <td>False</td>\n",
       "      <td>False</td>\n",
       "      <td>108.206083</td>\n",
       "    </tr>\n",
       "    <tr>\n",
       "      <th>2</th>\n",
       "      <td>2019-01-01 00:07:00</td>\n",
       "      <td>96.29</td>\n",
       "      <td>Grenada</td>\n",
       "      <td>41.6125</td>\n",
       "      <td>-122.5258</td>\n",
       "      <td>589</td>\n",
       "      <td>1945-12-21</td>\n",
       "      <td>41.657520</td>\n",
       "      <td>-122.230347</td>\n",
       "      <td>0</td>\n",
       "      <td>...</td>\n",
       "      <td>False</td>\n",
       "      <td>False</td>\n",
       "      <td>False</td>\n",
       "      <td>False</td>\n",
       "      <td>False</td>\n",
       "      <td>False</td>\n",
       "      <td>False</td>\n",
       "      <td>False</td>\n",
       "      <td>False</td>\n",
       "      <td>25.059079</td>\n",
       "    </tr>\n",
       "    <tr>\n",
       "      <th>3</th>\n",
       "      <td>2019-01-01 00:09:00</td>\n",
       "      <td>7.77</td>\n",
       "      <td>High Rolls Mountain Park</td>\n",
       "      <td>32.9396</td>\n",
       "      <td>-105.8189</td>\n",
       "      <td>899</td>\n",
       "      <td>1967-08-30</td>\n",
       "      <td>32.863258</td>\n",
       "      <td>-106.520205</td>\n",
       "      <td>0</td>\n",
       "      <td>...</td>\n",
       "      <td>False</td>\n",
       "      <td>False</td>\n",
       "      <td>False</td>\n",
       "      <td>False</td>\n",
       "      <td>False</td>\n",
       "      <td>False</td>\n",
       "      <td>False</td>\n",
       "      <td>False</td>\n",
       "      <td>False</td>\n",
       "      <td>66.021685</td>\n",
       "    </tr>\n",
       "    <tr>\n",
       "      <th>4</th>\n",
       "      <td>2019-01-01 00:21:00</td>\n",
       "      <td>6.85</td>\n",
       "      <td>Freedom</td>\n",
       "      <td>43.0172</td>\n",
       "      <td>-111.0292</td>\n",
       "      <td>471</td>\n",
       "      <td>1967-08-02</td>\n",
       "      <td>43.753735</td>\n",
       "      <td>-111.454923</td>\n",
       "      <td>0</td>\n",
       "      <td>...</td>\n",
       "      <td>False</td>\n",
       "      <td>False</td>\n",
       "      <td>False</td>\n",
       "      <td>False</td>\n",
       "      <td>False</td>\n",
       "      <td>False</td>\n",
       "      <td>False</td>\n",
       "      <td>False</td>\n",
       "      <td>False</td>\n",
       "      <td>88.830984</td>\n",
       "    </tr>\n",
       "  </tbody>\n",
       "</table>\n",
       "<p>5 rows × 204 columns</p>\n",
       "</div>"
      ],
      "text/plain": [
       "  trans_date_trans_time     amt                      city      lat      long  \\\n",
       "0   2019-01-01 00:00:00  107.23                    Orient  48.8878 -118.2105   \n",
       "1   2019-01-01 00:00:00  220.11                Malad City  42.1808 -112.2620   \n",
       "2   2019-01-01 00:07:00   96.29                   Grenada  41.6125 -122.5258   \n",
       "3   2019-01-01 00:09:00    7.77  High Rolls Mountain Park  32.9396 -105.8189   \n",
       "4   2019-01-01 00:21:00    6.85                   Freedom  43.0172 -111.0292   \n",
       "\n",
       "   city_pop        dob  merch_lat  merch_long  is_fraud  ...  \\\n",
       "0       149 1978-06-21  49.159047 -118.186462         0  ...   \n",
       "1      4154 1962-01-19  43.150704 -112.154481         0  ...   \n",
       "2       589 1945-12-21  41.657520 -122.230347         0  ...   \n",
       "3       899 1967-08-30  32.863258 -106.520205         0  ...   \n",
       "4       471 1967-08-02  43.753735 -111.454923         0  ...   \n",
       "\n",
       "   job_Therapist, horticultural  job_Therapist, music  \\\n",
       "0                         False                 False   \n",
       "1                         False                 False   \n",
       "2                         False                 False   \n",
       "3                         False                 False   \n",
       "4                         False                 False   \n",
       "\n",
       "   job_Therapist, occupational  job_Tourist information centre manager  \\\n",
       "0                        False                                   False   \n",
       "1                        False                                   False   \n",
       "2                        False                                   False   \n",
       "3                        False                                   False   \n",
       "4                        False                                   False   \n",
       "\n",
       "   job_Town planner  job_Video editor  job_Water engineer  job_Web designer  \\\n",
       "0             False             False               False             False   \n",
       "1             False             False               False             False   \n",
       "2             False             False               False             False   \n",
       "3             False             False               False             False   \n",
       "4             False             False               False             False   \n",
       "\n",
       "   job_Wellsite geologist    distance  \n",
       "0                   False   30.212176  \n",
       "1                   False  108.206083  \n",
       "2                   False   25.059079  \n",
       "3                   False   66.021685  \n",
       "4                   False   88.830984  \n",
       "\n",
       "[5 rows x 204 columns]"
      ]
     },
     "metadata": {},
     "output_type": "display_data"
    }
   ],
   "source": [
    "from math import radians, cos, sin, asin, sqrt\n",
    "\n",
    "def haversine(lat1, lon1, lat2, lon2):\n",
    "    \"\"\"\n",
    "    Calculate the great circle distance in kilometers between two points\n",
    "    on the earth (specified in decimal degrees)\n",
    "    \"\"\"\n",
    "    # convert decimal degrees to radians\n",
    "    lon1, lat1, lon2, lat2 = map(radians, [lon1, lat1, lon2, lat2])\n",
    "\n",
    "    # haversine formula\n",
    "    dlon = lon2 - lon1\n",
    "    dlat = lat2 - lat1\n",
    "    a = sin(dlat / 2) ** 2 + cos(lat1) * cos(lat2) * sin(dlon / 2) ** 2\n",
    "    c = 2 * asin(sqrt(a))\n",
    "    r = 6371  # Radius of earth in kilometers. Use 3956 for miles\n",
    "    return c * r\n",
    "\n",
    "df['distance'] = df.apply(lambda row: haversine(row['lat'], row['long'], row['merch_lat'], row['merch_long']), axis=1)\n",
    "display(df.head())"
   ]
  },
  {
   "cell_type": "markdown",
   "metadata": {
    "id": "AhLNymDs9FZH"
   },
   "source": [
    "## Data preparation:\n",
    "\n",
    "### Subtask5:\n",
    "Prepare the data for model training.\n"
   ]
  },
  {
   "cell_type": "markdown",
   "metadata": {
    "id": "j8G-GsG59Ft7"
   },
   "source": [
    "**Reasoning**:\n",
    "Separate the target variable from the feature columns, split the data into training and testing sets, and standardize the numerical features using StandardScaler.\n",
    "\n"
   ]
  },
  {
   "cell_type": "code",
   "execution_count": null,
   "metadata": {
    "id": "9ys_j9BM9F90"
   },
   "outputs": [],
   "source": [
    "from sklearn.model_selection import train_test_split\n",
    "from sklearn.preprocessing import StandardScaler\n",
    "\n",
    "# Separate target variable from features\n",
    "X = df.drop('is_fraud', axis=1)\n",
    "y = df['is_fraud']\n",
    "\n",
    "# Split data into training and testing sets\n",
    "X_train, X_test, y_train, y_test = train_test_split(X, y, test_size=0.2, random_state=42)\n",
    "\n",
    "# Standardize numerical features\n",
    "numerical_features = X.select_dtypes(include=['number']).columns\n",
    "scaler = StandardScaler()\n",
    "X_train[numerical_features] = scaler.fit_transform(X_train[numerical_features])\n",
    "X_test[numerical_features] = scaler.transform(X_test[numerical_features])"
   ]
  },
  {
   "cell_type": "markdown",
   "metadata": {
    "id": "Wc1cFt4M9Jl0"
   },
   "source": [
    "## Data Splitting:\n",
    "\n",
    "### Subtask6:\n",
    "Split the training data into training and validation sets.\n"
   ]
  },
  {
   "cell_type": "markdown",
   "metadata": {
    "id": "o_6T9cnd9J1f"
   },
   "source": [
    "**Reasoning**:\n",
    "Split the training data into training and validation sets using `train_test_split`.\n",
    "\n"
   ]
  },
  {
   "cell_type": "code",
   "execution_count": null,
   "metadata": {
    "id": "RvLpEXaI9KFL"
   },
   "outputs": [
    {
     "ename": "",
     "evalue": "",
     "output_type": "error",
     "traceback": [
      "\u001b[1;31mRunning cells with 'Python 3.12.0' requires the ipykernel package.\n",
      "\u001b[1;31mRun the following command to install 'ipykernel' into the Python environment. \n",
      "\u001b[1;31mCommand: '\"c:/Program Files/Python312/python.exe\" -m pip install ipykernel -U --user --force-reinstall'"
     ]
    }
   ],
   "source": [
    "from sklearn.model_selection import train_test_split\n",
    "\n",
    "X_train_final, X_val, y_train_final, y_val = train_test_split(X_train, y_train, test_size=0.2, random_state=42)"
   ]
  },
  {
   "cell_type": "markdown",
   "metadata": {
    "id": "98hMy05w9NnH"
   },
   "source": [
    "## Model training:\n",
    "\n",
    "### Subtask7:\n",
    "Train a Random Forest model using the final training data.\n"
   ]
  },
  {
   "cell_type": "markdown",
   "metadata": {
    "id": "FJcT0p7F9N2z"
   },
   "source": [
    "**Reasoning**:\n",
    "Train a Random Forest model using the `X_train_final` and `y_train_final` datasets.\n",
    "\n"
   ]
  },
  {
   "cell_type": "code",
   "execution_count": 1,
   "metadata": {
    "colab": {
     "base_uri": "https://localhost:8080/",
     "height": 80
    },
    "id": "zgpndXsv9OGr",
    "outputId": "837a288f-21ec-416e-aecf-1008c5a67fe1"
   },
   "outputs": [
    {
     "ename": "ModuleNotFoundError",
     "evalue": "No module named 'sklearn'",
     "output_type": "error",
     "traceback": [
      "\u001b[31m---------------------------------------------------------------------------\u001b[39m",
      "\u001b[31mModuleNotFoundError\u001b[39m                       Traceback (most recent call last)",
      "\u001b[36mCell\u001b[39m\u001b[36m \u001b[39m\u001b[32mIn[1]\u001b[39m\u001b[32m, line 1\u001b[39m\n\u001b[32m----> \u001b[39m\u001b[32m1\u001b[39m \u001b[38;5;28;01mfrom\u001b[39;00m\u001b[38;5;250m \u001b[39m\u001b[34;01msklearn\u001b[39;00m\u001b[34;01m.\u001b[39;00m\u001b[34;01mensemble\u001b[39;00m\u001b[38;5;250m \u001b[39m\u001b[38;5;28;01mimport\u001b[39;00m RandomForestClassifier\n\u001b[32m      3\u001b[39m \u001b[38;5;66;03m# Instantiate a RandomForestClassifier object\u001b[39;00m\n\u001b[32m      4\u001b[39m rf_model = RandomForestClassifier(random_state=\u001b[32m42\u001b[39m)\n",
      "\u001b[31mModuleNotFoundError\u001b[39m: No module named 'sklearn'"
     ]
    }
   ],
   "source": [
    "from sklearn.ensemble import RandomForestClassifier\n",
    "\n",
    "# Instantiate a RandomForestClassifier object\n",
    "rf_model = RandomForestClassifier(random_state=42)\n",
    "\n",
    "# Train the model\n",
    "rf_model.fit(X_train_final.drop(['trans_date_trans_time', 'city', 'dob'], axis=1), y_train_final)"
   ]
  },
  {
   "cell_type": "markdown",
   "metadata": {
    "id": "CRcO3fxY9mph"
   },
   "source": [
    "## Model optimization:\n",
    "\n",
    "### Subtask8:\n",
    "Optimize the trained Random Forest model using GridSearchCV to improve its performance.\n"
   ]
  },
  {
   "cell_type": "markdown",
   "metadata": {
    "id": "sdl1Sord9nfP"
   },
   "source": [
    "**Reasoning**:\n",
    "Optimize the Random Forest model using GridSearchCV with a defined parameter grid and cross-validation.\n",
    "\n"
   ]
  },
  {
   "cell_type": "code",
   "execution_count": null,
   "metadata": {
    "colab": {
     "base_uri": "https://localhost:8080/",
     "height": 132
    },
    "id": "LatLyXiu9nvD",
    "outputId": "482e9cf5-b1c6-4394-830c-512e0c1d58fd"
   },
   "outputs": [],
   "source": [
    "from sklearn.model_selection import GridSearchCV\n",
    "\n",
    "# Define parameter grid for Random Forest\n",
    "param_grid = {\n",
    "    'n_estimators': [50, 100, 200],\n",
    "    'max_depth': [None, 10, 20],\n",
    "    'min_samples_split': [2, 5, 10],\n",
    "    'min_samples_leaf': [1, 2, 4],\n",
    "    'criterion': ['gini', 'entropy']\n",
    "}\n",
    "\n",
    "# Instantiate GridSearchCV object\n",
    "grid_search = GridSearchCV(estimator=rf_model, param_grid=param_grid, scoring='roc_auc', cv=5)\n",
    "\n",
    "# Fit GridSearchCV to the validation data\n",
    "grid_search.fit(X_val.drop(['trans_date_trans_time', 'city', 'dob'], axis=1), y_val)\n",
    "\n",
    "# Explore best parameters and score\n",
    "print(\"Best Parameters:\", grid_search.best_params_)\n",
    "print(\"Best ROC AUC Score:\", grid_search.best_score_)\n",
    "\n",
    "# Retrain the model with best parameters\n",
    "best_rf_model = RandomForestClassifier(**grid_search.best_params_, random_state=42)\n",
    "best_rf_model.fit(X_train_final.drop(['trans_date_trans_time', 'city', 'dob'], axis=1), y_train_final)"
   ]
  },
  {
   "cell_type": "markdown",
   "metadata": {
    "id": "U4YlCxlGZi5b"
   },
   "source": [
    "## Model evaluation:\n",
    "\n",
    "### Subtask8:\n",
    "Evaluate the performance of the optimized Random Forest model on the testing dataset.\n"
   ]
  },
  {
   "cell_type": "markdown",
   "metadata": {
    "id": "G4UTi0gVZkLh"
   },
   "source": [
    "**Reasoning**:\n",
    "Evaluate the performance of the optimized Random Forest model on the testing dataset by calculating evaluation metrics and analyzing feature importance.\n",
    "\n"
   ]
  },
  {
   "cell_type": "code",
   "execution_count": null,
   "metadata": {
    "colab": {
     "base_uri": "https://localhost:8080/",
     "height": 857
    },
    "id": "GUOWNiKIZkeM",
    "outputId": "a3937e91-3e58-443c-e9dd-a309db675544"
   },
   "outputs": [],
   "source": [
    "from sklearn.metrics import classification_report, confusion_matrix, roc_auc_score, average_precision_score\n",
    "import matplotlib.pyplot as plt\n",
    "\n",
    "# Make predictions on the test dataset\n",
    "y_pred = best_rf_model.predict(X_test.drop(['trans_date_trans_time', 'city', 'dob'], axis=1))\n",
    "\n",
    "# Calculate evaluation metrics\n",
    "print(\"Classification Report:\\n\", classification_report(y_test, y_pred))\n",
    "print(\"Confusion Matrix:\\n\", confusion_matrix(y_test, y_pred))\n",
    "print(\"ROC AUC Score:\", roc_auc_score(y_test, best_rf_model.predict_proba(X_test.drop(['trans_date_trans_time', 'city', 'dob'], axis=1))[:, 1]))\n",
    "print(\"Precision-Recall AUC Score:\", average_precision_score(y_test, best_rf_model.predict_proba(X_test.drop(['trans_date_trans_time', 'city', 'dob'], axis=1))[:, 1]))\n",
    "\n",
    "# Analyze feature importance\n",
    "feature_importances = best_rf_model.feature_importances_\n",
    "feature_names = X_train_final.drop(['trans_date_trans_time', 'city', 'dob'], axis=1).columns\n",
    "\n",
    "# Sort feature importances in descending order\n",
    "sorted_idx = feature_importances.argsort()[::-1]\n",
    "sorted_feature_importances = feature_importances[sorted_idx]\n",
    "sorted_feature_names = feature_names[sorted_idx]\n",
    "\n",
    "# Plot feature importance\n",
    "plt.figure(figsize=(10, 6))\n",
    "plt.bar(range(X_train_final.drop(['trans_date_trans_time', 'city', 'dob'], axis=1).shape[1]), sorted_feature_importances, align='center')\n",
    "plt.xticks(range(X_train_final.drop(['trans_date_trans_time', 'city', 'dob'], axis=1).shape[1]), sorted_feature_names, rotation=90)\n",
    "plt.title('Feature Importance')\n",
    "plt.ylabel('Importance')\n",
    "plt.tight_layout()\n",
    "plt.show()\n"
   ]
  },
  {
   "cell_type": "markdown",
   "metadata": {
    "id": "9EelFPtQZt2R"
   },
   "source": [
    "## Summary:\n",
    "\n",
    "## Credit Card Fraud Detection Analysis Summary\n",
    "\n",
    "### 1. Q&A\n",
    "\n",
    "* **Q: What is the best ROC AUC score achieved by the optimized Random Forest model on the validation set?**\n",
    "    * **A:** The best ROC AUC score achieved by the optimized Random Forest model on the validation set is approximately 0.974.\n",
    "* **Q: What are the optimal hyperparameters found by GridSearchCV for the Random Forest model?**\n",
    "    * **A:** The optimal hyperparameters found are: `{'criterion': 'entropy', 'max_depth': 20, 'min_samples_leaf': 1, 'min_samples_split': 5, 'n_estimators': 200}`.\n",
    "* **Q: What is the overall performance of the optimized Random Forest model on the test dataset?**\n",
    "    * **A:** The model achieved high accuracy (1.00) and a good ROC AUC score (0.988) on the test dataset. However, the recall for the fraud class is 0.47, indicating room for improvement in detecting fraudulent transactions.\n",
    "\n",
    "### 2. Data Analysis Key Findings\n",
    "\n",
    "* **Class Imbalance:** The target variable \"is_fraud\" is highly imbalanced, with only 0.52% of transactions labeled as fraudulent.\n",
    "* **Feature Importance:**  Feature importance analysis revealed that certain features, such as transaction amount (`amt`), customer age (`age`), and geographical distance (`distance`), are key predictors of fraud.\n",
    "* **Model Optimization:** GridSearchCV found optimal hyperparameters for the Random Forest model, leading to a best ROC AUC score of 0.974 on the validation set.\n",
    "* **Model Evaluation:** The optimized model achieved a high accuracy (1.00) and ROC AUC score (0.988) on the test dataset. However, recall for the fraud class is only 0.47.\n",
    "* **Precision-Recall AUC:** The model has a Precision-Recall AUC score of 0.831 on the test dataset, suggesting a reasonable balance between precision and recall for the fraud class.\n",
    "\n",
    "### 3. Insights or Next Steps\n",
    "\n",
    "* **Focus on Improving Recall:** The primary focus should be on increasing the recall for the fraud class to minimize the number of undetected fraudulent transactions. This can be achieved by exploring techniques such as cost-sensitive learning, adjusting the classification threshold, or using more advanced sampling techniques to address class imbalance.\n",
    "* **Further Feature Engineering:** Investigate further feature engineering opportunities to improve model performance.  This could involve exploring interactions between features, analyzing transaction patterns, or incorporating external data sources.\n"
   ]
  },
  {
   "cell_type": "markdown",
   "metadata": {},
   "source": []
  }
 ],
 "metadata": {
  "colab": {
   "gpuType": "T4",
   "provenance": [],
   "toc_visible": true
  },
  "kernelspec": {
   "display_name": "Python 3",
   "language": "python",
   "name": "python3"
  },
  "language_info": {
   "codemirror_mode": {
    "name": "ipython",
    "version": 3
   },
   "file_extension": ".py",
   "mimetype": "text/x-python",
   "name": "python",
   "nbconvert_exporter": "python",
   "pygments_lexer": "ipython3",
   "version": "3.12.0"
  }
 },
 "nbformat": 4,
 "nbformat_minor": 4
}
